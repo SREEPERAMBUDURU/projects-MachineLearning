{
  "cells": [
    {
      "cell_type": "markdown",
      "metadata": {
        "id": "view-in-github",
        "colab_type": "text"
      },
      "source": [
        "<a href=\"https://colab.research.google.com/github/SREEPERAMBUDURU/projects-MachineLearning/blob/main/rfm_analysis.ipynb\" target=\"_parent\"><img src=\"https://colab.research.google.com/assets/colab-badge.svg\" alt=\"Open In Colab\"/></a>"
      ]
    },
    {
      "cell_type": "code",
      "source": [
        "from openpyxl import load_workbook\n",
        "\n",
        "try:\n",
        "    wb = load_workbook(filename=\"/content/online_retail_II.xlsx\")\n",
        "    print(wb.sheetnames)  # Print sheet names to verify the file was loaded correctly\n",
        "except Exception as e:\n",
        "    print(\"An error occurred:\", e)\n"
      ],
      "metadata": {
        "colab": {
          "base_uri": "https://localhost:8080/"
        },
        "id": "zws2ZaRqbIXe",
        "outputId": "ddf0b8e1-63f3-4764-f40e-a648a77bb9a5"
      },
      "id": "zws2ZaRqbIXe",
      "execution_count": 2,
      "outputs": [
        {
          "output_type": "stream",
          "name": "stdout",
          "text": [
            "['Year 2009-2010', 'Year 2010-2011']\n"
          ]
        }
      ]
    },
    {
      "cell_type": "code",
      "source": [
        "\n",
        "import datetime as dt\n",
        "import pandas as pd\n",
        "pd.set_option('display.max_columns', None)\n",
        "\n",
        "df = pd.read_excel(\"online_retail_II.xlsx\", sheet_name=\"Year 2010-2011\")\n",
        "df.head()\n",
        "# Number of NaN values per column:\n",
        "print(df.isnull().sum())\n",
        "\n",
        "print(df.quantile([0, 0.05, 0.50, 0.95, 0.99, 1]).T)\n",
        "\n",
        "df.dropna(inplace=True)\n",
        "\n",
        "df = df[~df[\"Invoice\"].str.contains(\"C\", na=False)]\n",
        "df = df[(df['Quantity'] > 0)]\n",
        "\n",
        "df.describe([0.01,0.25,0.50,0.75,0.99]).T\n",
        "\n",
        "def outlier_thresholds(dataframe, variable):\n",
        "    quartile1 = dataframe[variable].quantile(0.01)\n",
        "    quartile3 = dataframe[variable].quantile(0.99)\n",
        "    interquantile_range = quartile3 - quartile1\n",
        "    up_limit = quartile3 + 1.5 * interquantile_range\n",
        "    low_limit = quartile1 - 1.5 * interquantile_range\n",
        "    return low_limit, up_limit\n",
        "\n",
        "def replace_with_thresholds(dataframe, variable):\n",
        "    low_limit, up_limit = outlier_thresholds(dataframe, variable)\n",
        "    # dataframe.loc[(dataframe[variable] < low_limit), variable] = low_limit\n",
        "    dataframe.loc[(dataframe[variable] > up_limit), variable] = up_limit\n",
        "\n",
        "replace_with_thresholds(df, \"Quantity\")\n",
        "replace_with_thresholds(df, \"Price\")\n",
        "df.describe([0.01,0.25,0.50,0.75,0.99]).T\n",
        "\n",
        "df[\"TotalPrice\"] = df[\"Quantity\"] * df[\"Price\"]\n",
        "\n",
        "today_date = dt.datetime(2011, 12, 11)\n",
        "print(f\" Maximum invoice date: {df.InvoiceDate.max()} \\n Today date: {today_date}\")\n",
        "\n",
        "rfm = df.groupby(\"Customer ID\").agg({\"InvoiceDate\": lambda date: (today_date - date.max()).days,\n",
        "                                     \"Invoice\": lambda num: num.nunique(),\n",
        "                                      \"TotalPrice\": lambda price: price.sum()}) #total price per customer\n",
        "\n",
        "rfm.columns = ['Recency', 'Frequency', \"Monetary\"]\n",
        "rfm.reset_index(inplace=True)\n",
        "rfm.head()\n",
        "\n",
        "rfm[\"RecencyScore\"] = pd.qcut(rfm[\"Recency\"], 5, labels=[5, 4, 3, 2, 1])\n",
        "rfm[\"FrequencyScore\"] = pd.qcut(rfm[\"Frequency\"].rank(method=\"first\"), 5, labels=[1, 2, 3, 4, 5])\n",
        "rfm[\"MonetaryScore\"] = pd.qcut(rfm[\"Monetary\"], 5, labels=[1, 2, 3, 4, 5])\n",
        "\n",
        "rfm[\"RFM_SCORE\"] = (rfm['RecencyScore'].astype(str) +\n",
        "                    rfm['FrequencyScore'].astype(str) +\n",
        "                    rfm['MonetaryScore'].astype(str))\n",
        "\n",
        "seg_map = {\n",
        "    r'[1-2][1-2]': 'Hibernating',\n",
        "    r'[1-2][3-4]': 'At_Risk',\n",
        "    r'[1-2]5': 'Cant_Loose',\n",
        "    r'3[1-2]': 'About_to_Sleep',\n",
        "    r'33': 'Need_Attention',\n",
        "    r'[3-4][4-5]': 'Loyal_Customers',\n",
        "    r'41': 'Promising',\n",
        "    r'51': 'New_Customers',\n",
        "    r'[4-5][2-3]': 'Potential_Loyalists',\n",
        "    r'5[4-5]': 'Champions'}\n",
        "\n",
        "rfm['Segment'] = rfm['RecencyScore'].astype(str) + rfm['FrequencyScore'].astype(str)\n",
        "rfm['Segment'] = rfm['Segment'].replace(seg_map, regex=True)\n",
        "\n",
        "Customer_ID = 12431.0\n",
        "rfm[rfm[\"Customer ID\"] == Customer_ID][\"Segment\"]"
      ],
      "metadata": {
        "colab": {
          "base_uri": "https://localhost:8080/"
        },
        "id": "9b0DQKzoeDmD",
        "outputId": "ac7d94be-909a-459a-e78f-a68dc6271ce9"
      },
      "id": "9b0DQKzoeDmD",
      "execution_count": 4,
      "outputs": [
        {
          "output_type": "stream",
          "name": "stdout",
          "text": [
            "Invoice             0\n",
            "StockCode           0\n",
            "Description      1454\n",
            "Quantity            0\n",
            "InvoiceDate         0\n",
            "Price               0\n",
            "Customer ID    135080\n",
            "Country             0\n",
            "dtype: int64\n",
            "                 0.00      0.05      0.50      0.95     0.99     1.00\n",
            "Quantity    -80995.00      1.00      3.00     29.00    100.0  80995.0\n",
            "Price       -11062.06      0.42      2.08      9.95     18.0  38970.0\n",
            "Customer ID  12346.00  12626.00  15152.00  17905.00  18212.0  18287.0\n"
          ]
        },
        {
          "output_type": "stream",
          "name": "stderr",
          "text": [
            "<ipython-input-4-e5113915273d>:10: FutureWarning: The default value of numeric_only in DataFrame.quantile is deprecated. In a future version, it will default to False. Select only valid columns or specify the value of numeric_only to silence this warning.\n",
            "  print(df.quantile([0, 0.05, 0.50, 0.95, 0.99, 1]).T)\n"
          ]
        },
        {
          "output_type": "stream",
          "name": "stdout",
          "text": [
            " Maximum invoice date: 2011-12-09 12:50:00 \n",
            " Today date: 2011-12-11 00:00:00\n"
          ]
        },
        {
          "output_type": "execute_result",
          "data": {
            "text/plain": [
              "69    Loyal_Customers\n",
              "Name: Segment, dtype: object"
            ]
          },
          "metadata": {},
          "execution_count": 4
        }
      ]
    },
    {
      "cell_type": "code",
      "source": [
        "print(df.isnull().sum())\n",
        "print(df.quantile([0, 0.05, 0.50, 0.95, 0.99, 1]).T)\n",
        "print(df.dtypes)"
      ],
      "metadata": {
        "colab": {
          "base_uri": "https://localhost:8080/"
        },
        "id": "503Wocwci-db",
        "outputId": "6cd65ee2-3507-4bca-8aa9-0d83c76aa858"
      },
      "id": "503Wocwci-db",
      "execution_count": null,
      "outputs": [
        {
          "output_type": "stream",
          "name": "stdout",
          "text": [
            "Invoice        0\n",
            "StockCode      0\n",
            "Description    0\n",
            "Quantity       0\n",
            "InvoiceDate    0\n",
            "Price          0\n",
            "Customer ID    0\n",
            "Country        0\n",
            "TotalPrice     0\n",
            "dtype: int64\n",
            "                0.00      0.05      0.50     0.95      0.99       1.00\n",
            "Quantity         1.0      1.00      6.00     36.0    120.00    298.500\n",
            "Price            0.0      0.42      1.95      8.5     14.95     37.060\n",
            "Customer ID  12346.0  12627.00  15159.00  17912.0  18211.00  18287.000\n",
            "TotalPrice       0.0      1.25     11.80     67.5    183.60   3268.575\n",
            "Invoice                object\n",
            "StockCode              object\n",
            "Description            object\n",
            "Quantity              float64\n",
            "InvoiceDate    datetime64[ns]\n",
            "Price                 float64\n",
            "Customer ID           float64\n",
            "Country                object\n",
            "TotalPrice            float64\n",
            "dtype: object\n"
          ]
        },
        {
          "output_type": "stream",
          "name": "stderr",
          "text": [
            "<ipython-input-26-9dba1edd41fe>:2: FutureWarning: The default value of numeric_only in DataFrame.quantile is deprecated. In a future version, it will default to False. Select only valid columns or specify the value of numeric_only to silence this warning.\n",
            "  print(df.quantile([0, 0.05, 0.50, 0.95, 0.99, 1]).T)\n"
          ]
        }
      ]
    },
    {
      "cell_type": "code",
      "source": [],
      "metadata": {
        "id": "NAx3Q2z4kDW3"
      },
      "id": "NAx3Q2z4kDW3",
      "execution_count": null,
      "outputs": []
    }
  ],
  "metadata": {
    "kernelspec": {
      "display_name": "Python 3 (ipykernel)",
      "language": "python",
      "name": "python3"
    },
    "language_info": {
      "codemirror_mode": {
        "name": "ipython",
        "version": 3
      },
      "file_extension": ".py",
      "mimetype": "text/x-python",
      "name": "python",
      "nbconvert_exporter": "python",
      "pygments_lexer": "ipython3",
      "version": "3.10.5"
    },
    "colab": {
      "provenance": [],
      "include_colab_link": true
    }
  },
  "nbformat": 4,
  "nbformat_minor": 5
}